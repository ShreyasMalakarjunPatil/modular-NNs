{
 "cells": [
  {
   "cell_type": "code",
   "execution_count": 1,
   "metadata": {},
   "outputs": [
    {
     "name": "stderr",
     "output_type": "stream",
     "text": [
      "/home/bizon/Desktop/Shreyas_Research/.Shreyas_Research/lib/python3.8/site-packages/tqdm/auto.py:21: TqdmWarning: IProgress not found. Please update jupyter and ipywidgets. See https://ipywidgets.readthedocs.io/en/stable/user_install.html\n",
      "  from .autonotebook import tqdm as notebook_tqdm\n"
     ]
    }
   ],
   "source": [
    "\n",
    "import numpy as np\n",
    "import torch    \n",
    "import pickle as pkl\n",
    "import itertools\n",
    "from itertools import permutations\n",
    "\n",
    "np.random.seed(0)\n",
    "\n",
    "def andf(x):\n",
    "    if np.sum(x) == len(x):\n",
    "        return 1\n",
    "    else:\n",
    "        return 0\n",
    "\n",
    "def orf(x):\n",
    "    if np.sum(x)>0:\n",
    "        return 1\n",
    "    else:\n",
    "        return 0\n",
    "\n",
    "def nf(x):\n",
    "    if x==0:\n",
    "        return 1\n",
    "    else:\n",
    "        return 0"
   ]
  },
  {
   "cell_type": "code",
   "execution_count": 2,
   "metadata": {},
   "outputs": [],
   "source": [
    "X1 = list(map(list, itertools.product([0, 1], repeat=6)))\n",
    "X_train = []\n",
    "Y_train = []\n",
    "X_test = []\n",
    "Y_test = []\n",
    "\n",
    "for i in range(len(X1)):\n",
    "    x = X1[i]\n",
    "    x1 = X1[i][:2]\n",
    "    x2 = X1[i][2:4]\n",
    "    x3 = X1[i][4:]\n",
    "\n",
    "\n",
    "\n",
    "    g1 = np.zeros(2)\n",
    "    g2 = np.zeros(2)\n",
    "    g3 = np.zeros(2)\n",
    "    y = np.zeros(2)\n",
    "    \n",
    "    inp1 = []\n",
    "    inp1.append(x1[0])\n",
    "    inp1.append(nf(x1[1]))\n",
    "\n",
    "    g1[0] = andf(inp1)\n",
    "\n",
    "    inp1 = []\n",
    "    inp1.append(x1[1])\n",
    "    inp1.append(nf(x1[0]))\n",
    "\n",
    "    g1[1] = andf(inp1)\n",
    "\n",
    "    inp1 = []\n",
    "    inp1.append(x2[0])\n",
    "    inp1.append(nf(x2[1]))\n",
    "\n",
    "    g2[0] = andf(inp1)\n",
    "\n",
    "    inp1 = []\n",
    "    inp1.append(x2[1])\n",
    "    inp1.append(nf(x2[0]))\n",
    "\n",
    "    g2[1] = andf(inp1)\n",
    "\n",
    "    inp1 = []\n",
    "    inp1.append(x3[0])\n",
    "    inp1.append(nf(x3[1]))\n",
    "\n",
    "    g3[0] = andf(inp1)\n",
    "\n",
    "    inp1 = []\n",
    "    inp1.append(x3[1])\n",
    "    inp1.append(nf(x3[0]))\n",
    "\n",
    "    g3[1] = andf(inp1)\n",
    "\n",
    "\n",
    "    f1 = orf(g1)\n",
    "    f2 = orf(g2)\n",
    "    f3 = orf(g3)\n",
    "\n",
    "\n",
    "    inp1 = []\n",
    "    inp1.append(f1)\n",
    "    inp1.append(f2)\n",
    "\n",
    "    g1 = andf(inp1)\n",
    "\n",
    "    inp1 = []\n",
    "    inp1.append(f2)\n",
    "    inp1.append(f3)\n",
    "\n",
    "    g2 = andf(inp1)\n",
    "\n",
    "    y[0] = g1\n",
    "    y[1] = g2\n",
    "\n",
    "    Y_train.append(torch.tensor(y))\n",
    "    X_train.append(torch.tensor(x))\n",
    "    \n"
   ]
  },
  {
   "cell_type": "code",
   "execution_count": 3,
   "metadata": {},
   "outputs": [],
   "source": [
    "\n",
    "\n",
    "data = []\n",
    "data.append(torch.stack(X_train))\n",
    "data.append(torch.stack(Y_train))\n",
    "\n",
    "modularity = [6,3,2,2]\n",
    "\n",
    "with open('boolean'+str(modularity)+'.pkl', \"wb\") as fout1:\n",
    "    pkl.dump(data, fout1, protocol=pkl.HIGHEST_PROTOCOL)\n"
   ]
  },
  {
   "cell_type": "code",
   "execution_count": null,
   "metadata": {},
   "outputs": [],
   "source": []
  },
  {
   "cell_type": "code",
   "execution_count": null,
   "metadata": {},
   "outputs": [],
   "source": []
  },
  {
   "cell_type": "code",
   "execution_count": 4,
   "metadata": {},
   "outputs": [],
   "source": [
    "inp_indices = [[[0,1], [2,3], [4,5]], [[0,1], [1,2]], [[0,1]]]\n",
    "\n",
    "\n",
    "with open('boolean'+str(modularity)+'_module_input_indices.pkl', \"wb\") as fout1:\n",
    "    pkl.dump(inp_indices, fout1, protocol=pkl.HIGHEST_PROTOCOL)"
   ]
  },
  {
   "cell_type": "code",
   "execution_count": null,
   "metadata": {},
   "outputs": [],
   "source": []
  },
  {
   "cell_type": "code",
   "execution_count": 5,
   "metadata": {},
   "outputs": [],
   "source": [
    "inp_indices = [[[0,1], [2,3], [4,5]], [[0,1], [1,2]], [[0,1]]]\n",
    "\n",
    "\n",
    "with open('boolean'+str(modularity)+'_module_input_indices_shared_modules.pkl', \"wb\") as fout1:\n",
    "    pkl.dump(inp_indices, fout1, protocol=pkl.HIGHEST_PROTOCOL)\n",
    "\n",
    "\n",
    "slot_module_indices = [[0,0,0],[1,1]]\n",
    "\n",
    "with open('boolean'+str(modularity)+'_slot_module_indices_shared_modules.pkl', \"wb\") as fout1:\n",
    "    pkl.dump(slot_module_indices, fout1, protocol=pkl.HIGHEST_PROTOCOL)"
   ]
  },
  {
   "cell_type": "code",
   "execution_count": null,
   "metadata": {},
   "outputs": [],
   "source": []
  },
  {
   "cell_type": "code",
   "execution_count": null,
   "metadata": {},
   "outputs": [],
   "source": []
  },
  {
   "cell_type": "code",
   "execution_count": null,
   "metadata": {},
   "outputs": [],
   "source": []
  },
  {
   "cell_type": "code",
   "execution_count": null,
   "metadata": {},
   "outputs": [],
   "source": []
  },
  {
   "cell_type": "code",
   "execution_count": null,
   "metadata": {},
   "outputs": [],
   "source": []
  },
  {
   "cell_type": "code",
   "execution_count": null,
   "metadata": {},
   "outputs": [],
   "source": []
  },
  {
   "cell_type": "code",
   "execution_count": null,
   "metadata": {},
   "outputs": [],
   "source": []
  },
  {
   "cell_type": "code",
   "execution_count": null,
   "metadata": {},
   "outputs": [],
   "source": []
  },
  {
   "cell_type": "code",
   "execution_count": null,
   "metadata": {},
   "outputs": [],
   "source": []
  },
  {
   "cell_type": "code",
   "execution_count": null,
   "metadata": {},
   "outputs": [],
   "source": []
  },
  {
   "cell_type": "code",
   "execution_count": null,
   "metadata": {},
   "outputs": [],
   "source": []
  },
  {
   "cell_type": "code",
   "execution_count": null,
   "metadata": {},
   "outputs": [],
   "source": []
  }
 ],
 "metadata": {
  "kernelspec": {
   "display_name": "Python 3.8.5 ('.Shreyas_Research': venv)",
   "language": "python",
   "name": "python3"
  },
  "language_info": {
   "codemirror_mode": {
    "name": "ipython",
    "version": 3
   },
   "file_extension": ".py",
   "mimetype": "text/x-python",
   "name": "python",
   "nbconvert_exporter": "python",
   "pygments_lexer": "ipython3",
   "version": "3.8.5"
  },
  "orig_nbformat": 4,
  "vscode": {
   "interpreter": {
    "hash": "c3098a33fd5442c86bf50ee2083b70f556d093e73c30f873e28acad71b6736f0"
   }
  }
 },
 "nbformat": 4,
 "nbformat_minor": 2
}
